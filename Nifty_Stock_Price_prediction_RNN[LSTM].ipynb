{
 "cells": [
  {
   "cell_type": "code",
   "execution_count": 1,
   "metadata": {
    "collapsed": false
   },
   "outputs": [
    {
     "name": "stderr",
     "output_type": "stream",
     "text": [
      "/home/parab/anaconda3/lib/python3.5/site-packages/h5py/__init__.py:36: FutureWarning: Conversion of the second argument of issubdtype from `float` to `np.floating` is deprecated. In future, it will be treated as `np.float64 == np.dtype(float).type`.\n",
      "  from ._conv import register_converters as _register_converters\n",
      "Using TensorFlow backend.\n"
     ]
    }
   ],
   "source": [
    "import pandas as pd \n",
    "import numpy as np\n",
    "import os \n",
    "import math\n",
    "import matplotlib.pyplot as plt \n",
    "\n",
    "from sklearn.preprocessing import MinMaxScaler\n",
    "from sklearn.metrics import mean_squared_error\n",
    "\n",
    "from keras.models import Sequential \n",
    "from keras.layers import Dense, BatchNormalization, Dropout, Activation\n",
    "from keras.layers import LSTM, GRU \n",
    "from keras.optimizers import Adam, SGD, RMSprop\n",
    "\n",
    "%matplotlib inline"
   ]
  },
  {
   "cell_type": "code",
   "execution_count": 2,
   "metadata": {
    "collapsed": true
   },
   "outputs": [],
   "source": [
    "nifty = pd.read_csv('Data/nifty50.csv')"
   ]
  },
  {
   "cell_type": "code",
   "execution_count": 3,
   "metadata": {
    "collapsed": false
   },
   "outputs": [
    {
     "data": {
      "text/html": [
       "<div>\n",
       "<style scoped>\n",
       "    .dataframe tbody tr th:only-of-type {\n",
       "        vertical-align: middle;\n",
       "    }\n",
       "\n",
       "    .dataframe tbody tr th {\n",
       "        vertical-align: top;\n",
       "    }\n",
       "\n",
       "    .dataframe thead th {\n",
       "        text-align: right;\n",
       "    }\n",
       "</style>\n",
       "<table border=\"1\" class=\"dataframe\">\n",
       "  <thead>\n",
       "    <tr style=\"text-align: right;\">\n",
       "      <th></th>\n",
       "      <th>Date</th>\n",
       "      <th>Open</th>\n",
       "      <th>High</th>\n",
       "      <th>Low</th>\n",
       "      <th>Close</th>\n",
       "      <th>Adj Close</th>\n",
       "      <th>Volume</th>\n",
       "    </tr>\n",
       "  </thead>\n",
       "  <tbody>\n",
       "    <tr>\n",
       "      <th>0</th>\n",
       "      <td>2007-09-17</td>\n",
       "      <td>4518.450195</td>\n",
       "      <td>4549.049805</td>\n",
       "      <td>4482.850098</td>\n",
       "      <td>4494.649902</td>\n",
       "      <td>4494.649902</td>\n",
       "      <td>0.0</td>\n",
       "    </tr>\n",
       "    <tr>\n",
       "      <th>1</th>\n",
       "      <td>2007-09-18</td>\n",
       "      <td>4494.100098</td>\n",
       "      <td>4551.799805</td>\n",
       "      <td>4481.549805</td>\n",
       "      <td>4546.200195</td>\n",
       "      <td>4546.200195</td>\n",
       "      <td>0.0</td>\n",
       "    </tr>\n",
       "    <tr>\n",
       "      <th>2</th>\n",
       "      <td>2007-09-19</td>\n",
       "      <td>4550.250000</td>\n",
       "      <td>4739.000000</td>\n",
       "      <td>4550.250000</td>\n",
       "      <td>4732.350098</td>\n",
       "      <td>4732.350098</td>\n",
       "      <td>0.0</td>\n",
       "    </tr>\n",
       "    <tr>\n",
       "      <th>3</th>\n",
       "      <td>2007-09-20</td>\n",
       "      <td>4734.850098</td>\n",
       "      <td>4760.850098</td>\n",
       "      <td>4721.149902</td>\n",
       "      <td>4747.549805</td>\n",
       "      <td>4747.549805</td>\n",
       "      <td>0.0</td>\n",
       "    </tr>\n",
       "    <tr>\n",
       "      <th>4</th>\n",
       "      <td>2007-09-21</td>\n",
       "      <td>4752.950195</td>\n",
       "      <td>4855.700195</td>\n",
       "      <td>4733.700195</td>\n",
       "      <td>4837.549805</td>\n",
       "      <td>4837.549805</td>\n",
       "      <td>0.0</td>\n",
       "    </tr>\n",
       "  </tbody>\n",
       "</table>\n",
       "</div>"
      ],
      "text/plain": [
       "         Date         Open         High          Low        Close  \\\n",
       "0  2007-09-17  4518.450195  4549.049805  4482.850098  4494.649902   \n",
       "1  2007-09-18  4494.100098  4551.799805  4481.549805  4546.200195   \n",
       "2  2007-09-19  4550.250000  4739.000000  4550.250000  4732.350098   \n",
       "3  2007-09-20  4734.850098  4760.850098  4721.149902  4747.549805   \n",
       "4  2007-09-21  4752.950195  4855.700195  4733.700195  4837.549805   \n",
       "\n",
       "     Adj Close  Volume  \n",
       "0  4494.649902     0.0  \n",
       "1  4546.200195     0.0  \n",
       "2  4732.350098     0.0  \n",
       "3  4747.549805     0.0  \n",
       "4  4837.549805     0.0  "
      ]
     },
     "execution_count": 3,
     "metadata": {},
     "output_type": "execute_result"
    }
   ],
   "source": [
    "nifty.head()"
   ]
  },
  {
   "cell_type": "code",
   "execution_count": null,
   "metadata": {
    "collapsed": false
   },
   "outputs": [],
   "source": []
  },
  {
   "cell_type": "code",
   "execution_count": 4,
   "metadata": {
    "collapsed": false
   },
   "outputs": [
    {
     "data": {
      "text/html": [
       "<div>\n",
       "<style scoped>\n",
       "    .dataframe tbody tr th:only-of-type {\n",
       "        vertical-align: middle;\n",
       "    }\n",
       "\n",
       "    .dataframe tbody tr th {\n",
       "        vertical-align: top;\n",
       "    }\n",
       "\n",
       "    .dataframe thead th {\n",
       "        text-align: right;\n",
       "    }\n",
       "</style>\n",
       "<table border=\"1\" class=\"dataframe\">\n",
       "  <thead>\n",
       "    <tr style=\"text-align: right;\">\n",
       "      <th></th>\n",
       "      <th>Open</th>\n",
       "      <th>High</th>\n",
       "      <th>Low</th>\n",
       "      <th>Close</th>\n",
       "      <th>Adj Close</th>\n",
       "      <th>Volume</th>\n",
       "    </tr>\n",
       "  </thead>\n",
       "  <tbody>\n",
       "    <tr>\n",
       "      <th>count</th>\n",
       "      <td>2722.000000</td>\n",
       "      <td>2722.000000</td>\n",
       "      <td>2722.000000</td>\n",
       "      <td>2722.000000</td>\n",
       "      <td>2722.000000</td>\n",
       "      <td>2722.000000</td>\n",
       "    </tr>\n",
       "    <tr>\n",
       "      <th>mean</th>\n",
       "      <td>6701.607531</td>\n",
       "      <td>6743.648368</td>\n",
       "      <td>6650.014105</td>\n",
       "      <td>6697.464089</td>\n",
       "      <td>6697.464089</td>\n",
       "      <td>96687.215283</td>\n",
       "    </tr>\n",
       "    <tr>\n",
       "      <th>std</th>\n",
       "      <td>2102.754767</td>\n",
       "      <td>2096.967411</td>\n",
       "      <td>2103.448414</td>\n",
       "      <td>2099.568239</td>\n",
       "      <td>2099.568239</td>\n",
       "      <td>104641.370036</td>\n",
       "    </tr>\n",
       "    <tr>\n",
       "      <th>min</th>\n",
       "      <td>2553.600098</td>\n",
       "      <td>2585.300049</td>\n",
       "      <td>2252.750000</td>\n",
       "      <td>2524.199951</td>\n",
       "      <td>2524.199951</td>\n",
       "      <td>0.000000</td>\n",
       "    </tr>\n",
       "    <tr>\n",
       "      <th>25%</th>\n",
       "      <td>5194.699951</td>\n",
       "      <td>5229.924926</td>\n",
       "      <td>5123.837525</td>\n",
       "      <td>5192.400024</td>\n",
       "      <td>5192.400024</td>\n",
       "      <td>0.000000</td>\n",
       "    </tr>\n",
       "    <tr>\n",
       "      <th>50%</th>\n",
       "      <td>5988.250000</td>\n",
       "      <td>6018.324951</td>\n",
       "      <td>5939.975098</td>\n",
       "      <td>5982.824951</td>\n",
       "      <td>5982.824951</td>\n",
       "      <td>108250.000000</td>\n",
       "    </tr>\n",
       "    <tr>\n",
       "      <th>75%</th>\n",
       "      <td>8325.124756</td>\n",
       "      <td>8356.400391</td>\n",
       "      <td>8269.900391</td>\n",
       "      <td>8323.800049</td>\n",
       "      <td>8323.800049</td>\n",
       "      <td>175200.000000</td>\n",
       "    </tr>\n",
       "    <tr>\n",
       "      <th>max</th>\n",
       "      <td>11751.799805</td>\n",
       "      <td>11760.200195</td>\n",
       "      <td>11710.500000</td>\n",
       "      <td>11738.500000</td>\n",
       "      <td>11738.500000</td>\n",
       "      <td>719000.000000</td>\n",
       "    </tr>\n",
       "  </tbody>\n",
       "</table>\n",
       "</div>"
      ],
      "text/plain": [
       "               Open          High           Low         Close     Adj Close  \\\n",
       "count   2722.000000   2722.000000   2722.000000   2722.000000   2722.000000   \n",
       "mean    6701.607531   6743.648368   6650.014105   6697.464089   6697.464089   \n",
       "std     2102.754767   2096.967411   2103.448414   2099.568239   2099.568239   \n",
       "min     2553.600098   2585.300049   2252.750000   2524.199951   2524.199951   \n",
       "25%     5194.699951   5229.924926   5123.837525   5192.400024   5192.400024   \n",
       "50%     5988.250000   6018.324951   5939.975098   5982.824951   5982.824951   \n",
       "75%     8325.124756   8356.400391   8269.900391   8323.800049   8323.800049   \n",
       "max    11751.799805  11760.200195  11710.500000  11738.500000  11738.500000   \n",
       "\n",
       "              Volume  \n",
       "count    2722.000000  \n",
       "mean    96687.215283  \n",
       "std    104641.370036  \n",
       "min         0.000000  \n",
       "25%         0.000000  \n",
       "50%    108250.000000  \n",
       "75%    175200.000000  \n",
       "max    719000.000000  "
      ]
     },
     "execution_count": 4,
     "metadata": {},
     "output_type": "execute_result"
    }
   ],
   "source": [
    "nifty.describe()"
   ]
  },
  {
   "cell_type": "code",
   "execution_count": 5,
   "metadata": {
    "collapsed": false
   },
   "outputs": [
    {
     "data": {
      "text/plain": [
       "Date          0\n",
       "Open         25\n",
       "High         25\n",
       "Low          25\n",
       "Close        25\n",
       "Adj Close    25\n",
       "Volume       25\n",
       "dtype: int64"
      ]
     },
     "execution_count": 5,
     "metadata": {},
     "output_type": "execute_result"
    }
   ],
   "source": [
    "nifty.isnull().sum()"
   ]
  },
  {
   "cell_type": "code",
   "execution_count": null,
   "metadata": {
    "collapsed": true
   },
   "outputs": [],
   "source": []
  },
  {
   "cell_type": "code",
   "execution_count": null,
   "metadata": {
    "collapsed": true
   },
   "outputs": [],
   "source": []
  },
  {
   "cell_type": "code",
   "execution_count": 6,
   "metadata": {
    "collapsed": true
   },
   "outputs": [],
   "source": [
    "nifty.fillna(method = 'ffill', inplace = True)"
   ]
  },
  {
   "cell_type": "code",
   "execution_count": 7,
   "metadata": {
    "collapsed": false
   },
   "outputs": [
    {
     "data": {
      "text/plain": [
       "Date         0\n",
       "Open         0\n",
       "High         0\n",
       "Low          0\n",
       "Close        0\n",
       "Adj Close    0\n",
       "Volume       0\n",
       "dtype: int64"
      ]
     },
     "execution_count": 7,
     "metadata": {},
     "output_type": "execute_result"
    }
   ],
   "source": [
    "nifty.isnull().sum()"
   ]
  },
  {
   "cell_type": "code",
   "execution_count": null,
   "metadata": {
    "collapsed": true
   },
   "outputs": [],
   "source": []
  },
  {
   "cell_type": "code",
   "execution_count": null,
   "metadata": {
    "collapsed": true
   },
   "outputs": [],
   "source": []
  },
  {
   "cell_type": "code",
   "execution_count": 8,
   "metadata": {
    "collapsed": false
   },
   "outputs": [
    {
     "data": {
      "text/plain": [
       "(2747, 7)"
      ]
     },
     "execution_count": 8,
     "metadata": {},
     "output_type": "execute_result"
    }
   ],
   "source": [
    "nifty.shape"
   ]
  },
  {
   "cell_type": "code",
   "execution_count": 9,
   "metadata": {
    "collapsed": false
   },
   "outputs": [
    {
     "data": {
      "text/plain": [
       "array(['2007-09-17', '2007-09-18', '2007-09-19', ..., '2018-10-29',\n",
       "       '2018-10-30', '2018-10-31'], dtype=object)"
      ]
     },
     "execution_count": 9,
     "metadata": {},
     "output_type": "execute_result"
    }
   ],
   "source": [
    "nifty.Date.unique()"
   ]
  },
  {
   "cell_type": "code",
   "execution_count": 10,
   "metadata": {
    "collapsed": false
   },
   "outputs": [
    {
     "data": {
      "text/plain": [
       "Index(['Date', 'Open', 'High', 'Low', 'Close', 'Adj Close', 'Volume'], dtype='object')"
      ]
     },
     "execution_count": 10,
     "metadata": {},
     "output_type": "execute_result"
    }
   ],
   "source": [
    "# Features\n",
    "nifty.columns"
   ]
  },
  {
   "cell_type": "code",
   "execution_count": null,
   "metadata": {
    "collapsed": false
   },
   "outputs": [],
   "source": []
  },
  {
   "cell_type": "markdown",
   "metadata": {},
   "source": [
    "## Plotting Data "
   ]
  },
  {
   "cell_type": "code",
   "execution_count": 11,
   "metadata": {
    "collapsed": false
   },
   "outputs": [
    {
     "data": {
      "image/png": "[encoded data removed]",
      "text/plain": [
       "<matplotlib.figure.Figure at 0x7f3fe4443278>"
      ]
     },
     "metadata": {},
     "output_type": "display_data"
    }
   ],
   "source": [
    "fig = plt.figure(figsize = (15, 9))\n",
    "nifty['Close'].plot()\n",
    "plt.xlabel('Close')\n",
    "plt.ylabel('Time')\n",
    "plt.show()"
   ]
  },
  {
   "cell_type": "code",
   "execution_count": null,
   "metadata": {
    "collapsed": true
   },
   "outputs": [],
   "source": []
  },
  {
   "cell_type": "code",
   "execution_count": null,
   "metadata": {
    "collapsed": true
   },
   "outputs": [],
   "source": []
  },
  {
   "cell_type": "code",
   "execution_count": 12,
   "metadata": {
    "collapsed": true
   },
   "outputs": [],
   "source": [
    "# Taking close price for forcasting future prices."
   ]
  },
  {
   "cell_type": "code",
   "execution_count": 13,
   "metadata": {
    "collapsed": false
   },
   "outputs": [
    {
     "name": "stdout",
     "output_type": "stream",
     "text": [
      "[ 4494.649902  4546.200195  4732.350098 ... 10250.849609 10198.400391\n",
      " 10386.599609]\n"
     ]
    }
   ],
   "source": [
    "data = nifty['Close'].values\n",
    "print(data)\n",
    "data = data.reshape(len(data), 1)"
   ]
  },
  {
   "cell_type": "code",
   "execution_count": null,
   "metadata": {
    "collapsed": true
   },
   "outputs": [],
   "source": []
  },
  {
   "cell_type": "code",
   "execution_count": 14,
   "metadata": {
    "collapsed": false
   },
   "outputs": [],
   "source": [
    "# Feature scaling\n",
    "scaler = MinMaxScaler(feature_range = (0, 1))\n",
    "data = scaler.fit_transform(data)"
   ]
  },
  {
   "cell_type": "code",
   "execution_count": null,
   "metadata": {
    "collapsed": true
   },
   "outputs": [],
   "source": []
  },
  {
   "cell_type": "code",
   "execution_count": 15,
   "metadata": {
    "collapsed": true
   },
   "outputs": [],
   "source": [
    "train = int(len(data) * 0.80)\n",
    "test = len(data) - train "
   ]
  },
  {
   "cell_type": "code",
   "execution_count": 16,
   "metadata": {
    "collapsed": false
   },
   "outputs": [
    {
     "name": "stdout",
     "output_type": "stream",
     "text": [
      "2197 550\n"
     ]
    }
   ],
   "source": [
    "print(train, test)"
   ]
  },
  {
   "cell_type": "code",
   "execution_count": 17,
   "metadata": {
    "collapsed": false
   },
   "outputs": [
    {
     "name": "stdout",
     "output_type": "stream",
     "text": [
      "[[0.21384695]\n",
      " [0.21944155]\n",
      " [0.23964383]\n",
      " ...\n",
      " [0.66841219]\n",
      " [0.67147256]\n",
      " [0.66788036]]\n"
     ]
    }
   ],
   "source": [
    "train = data[0:train]\n",
    "print(train)"
   ]
  },
  {
   "cell_type": "code",
   "execution_count": 18,
   "metadata": {
    "collapsed": false
   },
   "outputs": [
    {
     "data": {
      "text/plain": [
       "(2197, 1)"
      ]
     },
     "execution_count": 18,
     "metadata": {},
     "output_type": "execute_result"
    }
   ],
   "source": [
    "train.shape"
   ]
  },
  {
   "cell_type": "code",
   "execution_count": null,
   "metadata": {
    "collapsed": true
   },
   "outputs": [],
   "source": []
  },
  {
   "cell_type": "code",
   "execution_count": 19,
   "metadata": {
    "collapsed": false
   },
   "outputs": [],
   "source": [
    "test = data[len(train):]"
   ]
  },
  {
   "cell_type": "code",
   "execution_count": 20,
   "metadata": {
    "collapsed": false
   },
   "outputs": [
    {
     "name": "stdout",
     "output_type": "stream",
     "text": [
      "(2197, 1) (550, 1)\n"
     ]
    }
   ],
   "source": [
    "print(train.shape, test.shape)"
   ]
  },
  {
   "cell_type": "code",
   "execution_count": null,
   "metadata": {
    "collapsed": true
   },
   "outputs": [],
   "source": []
  },
  {
   "cell_type": "code",
   "execution_count": 21,
   "metadata": {
    "collapsed": true
   },
   "outputs": [],
   "source": [
    "def preprocess(data, n_features):\n",
    "    x, Y = [], []\n",
    "    for i in range(len(data) - n_features - 1):\n",
    "        m = data[i : (i + n_features), 0]\n",
    "        x.append(m)\n",
    "        Y.append(data[i + n_features, 0])\n",
    "    return np.array(x), np.array(Y)"
   ]
  },
  {
   "cell_type": "code",
   "execution_count": 22,
   "metadata": {
    "collapsed": false
   },
   "outputs": [],
   "source": [
    "n_features = 2 \n",
    "\n",
    "train_X, train_Y = preprocess(train, n_features)\n",
    "test_X, test_Y = preprocess(test, n_features)"
   ]
  },
  {
   "cell_type": "code",
   "execution_count": 23,
   "metadata": {
    "collapsed": false
   },
   "outputs": [
    {
     "name": "stdout",
     "output_type": "stream",
     "text": [
      "(2194, 2) (2194,) (547, 2) (547,)\n"
     ]
    }
   ],
   "source": [
    "print(train_X.shape, train_Y.shape, test_X.shape, test_Y.shape)"
   ]
  },
  {
   "cell_type": "code",
   "execution_count": 24,
   "metadata": {
    "collapsed": false
   },
   "outputs": [],
   "source": [
    "train_X = train_X.reshape(train_X.shape[0], 1, train_X.shape[1])\n",
    "test_X = test_X.reshape(test_X.shape[0], 1, test_X.shape[1])"
   ]
  },
  {
   "cell_type": "code",
   "execution_count": 25,
   "metadata": {
    "collapsed": true
   },
   "outputs": [],
   "source": [
    "filepath = 'Model/nifty_close_weight.hdf5'\n",
    "from keras.callbacks import ReduceLROnPlateau, ModelCheckpoint\n",
    "\n",
    "lr_reduce = ReduceLROnPlateau(monitor = 'val_loss', factor = 0.1, epsilon = 0.0001, patience = 1, verbose = 1)\n",
    "checkpoint = ModelCheckpoint(filepath, monitor = 'val_loss', verbose = 1, save_best_only =  True, mode = 'max')"
   ]
  },
  {
   "cell_type": "code",
   "execution_count": null,
   "metadata": {
    "collapsed": true
   },
   "outputs": [],
   "source": []
  },
  {
   "cell_type": "code",
   "execution_count": 26,
   "metadata": {
    "collapsed": false
   },
   "outputs": [
    {
     "name": "stdout",
     "output_type": "stream",
     "text": [
      "WARNING:tensorflow:From /home/parab/anaconda3/lib/python3.5/site-packages/keras/backend/tensorflow_backend.py:1247: calling reduce_sum (from tensorflow.python.ops.math_ops) with keep_dims is deprecated and will be removed in a future version.\n",
      "Instructions for updating:\n",
      "keep_dims is deprecated, use keepdims instead\n"
     ]
    }
   ],
   "source": [
    "model = Sequential()\n",
    "model.add(GRU(256, input_shape = (1, n_features), return_sequences = True))\n",
    "model.add(Dropout(0.4))\n",
    "model.add(LSTM(256))\n",
    "model.add(Dense(64, activation = 'relu'))\n",
    "model.add(Dense(1))"
   ]
  },
  {
   "cell_type": "code",
   "execution_count": 27,
   "metadata": {
    "collapsed": false
   },
   "outputs": [
    {
     "name": "stdout",
     "output_type": "stream",
     "text": [
      "_________________________________________________________________\n",
      "Layer (type)                 Output Shape              Param #   \n",
      "=================================================================\n",
      "gru_1 (GRU)                  (None, 1, 256)            198912    \n",
      "_________________________________________________________________\n",
      "dropout_1 (Dropout)          (None, 1, 256)            0         \n",
      "_________________________________________________________________\n",
      "lstm_1 (LSTM)                (None, 256)               525312    \n",
      "_________________________________________________________________\n",
      "dense_1 (Dense)              (None, 64)                16448     \n",
      "_________________________________________________________________\n",
      "dense_2 (Dense)              (None, 1)                 65        \n",
      "=================================================================\n",
      "Total params: 740,737\n",
      "Trainable params: 740,737\n",
      "Non-trainable params: 0\n",
      "_________________________________________________________________\n",
      "None\n"
     ]
    }
   ],
   "source": [
    "print(model.summary())"
   ]
  },
  {
   "cell_type": "code",
   "execution_count": 28,
   "metadata": {
    "collapsed": false
   },
   "outputs": [
    {
     "name": "stdout",
     "output_type": "stream",
     "text": [
      "WARNING:tensorflow:From /home/parab/anaconda3/lib/python3.5/site-packages/keras/backend/tensorflow_backend.py:1349: calling reduce_mean (from tensorflow.python.ops.math_ops) with keep_dims is deprecated and will be removed in a future version.\n",
      "Instructions for updating:\n",
      "keep_dims is deprecated, use keepdims instead\n"
     ]
    }
   ],
   "source": [
    "model.compile(loss = 'mean_squared_error', optimizer = Adam(lr = 0.0005), metrics = ['mean_squared_error'])"
   ]
  },
  {
   "cell_type": "code",
   "execution_count": 29,
   "metadata": {
    "collapsed": false
   },
   "outputs": [
    {
     "name": "stdout",
     "output_type": "stream",
     "text": [
      "Train on 2194 samples, validate on 547 samples\n",
      "Epoch 1/10\n",
      "2048/2194 [===========================>..] - ETA: 0s - loss: 0.0938 - mean_squared_error: 0.0938Epoch 00001: val_loss improved from -inf to 0.07022, saving model to Model/nifty_close_weight.hdf5\n",
      "2194/2194 [==============================] - 3s 1ms/step - loss: 0.0888 - mean_squared_error: 0.0888 - val_loss: 0.0702 - val_mean_squared_error: 0.0702\n",
      "Epoch 2/10\n",
      "2176/2194 [============================>.] - ETA: 0s - loss: 0.0096 - mean_squared_error: 0.0096Epoch 00002: val_loss did not improve\n",
      "2194/2194 [==============================] - 1s 451us/step - loss: 0.0096 - mean_squared_error: 0.0096 - val_loss: 0.0282 - val_mean_squared_error: 0.0282\n",
      "Epoch 3/10\n",
      "2176/2194 [============================>.] - ETA: 0s - loss: 0.0050 - mean_squared_error: 0.0050Epoch 00003: val_loss did not improve\n",
      "2194/2194 [==============================] - 1s 410us/step - loss: 0.0050 - mean_squared_error: 0.0050 - val_loss: 0.0107 - val_mean_squared_error: 0.0107\n",
      "Epoch 4/10\n",
      "2176/2194 [============================>.] - ETA: 0s - loss: 0.0029 - mean_squared_error: 0.0029Epoch 00004: val_loss did not improve\n",
      "2194/2194 [==============================] - 1s 417us/step - loss: 0.0029 - mean_squared_error: 0.0029 - val_loss: 0.0113 - val_mean_squared_error: 0.0113\n",
      "Epoch 5/10\n",
      "2176/2194 [============================>.] - ETA: 0s - loss: 0.0018 - mean_squared_error: 0.0018Epoch 00005: val_loss did not improve\n",
      "2194/2194 [==============================] - 1s 410us/step - loss: 0.0018 - mean_squared_error: 0.0018 - val_loss: 0.0020 - val_mean_squared_error: 0.0020\n",
      "Epoch 6/10\n",
      "2176/2194 [============================>.] - ETA: 0s - loss: 0.0011 - mean_squared_error: 0.0011Epoch 00006: val_loss did not improve\n",
      "2194/2194 [==============================] - 1s 426us/step - loss: 0.0011 - mean_squared_error: 0.0011 - val_loss: 4.8110e-04 - val_mean_squared_error: 4.8110e-04\n",
      "Epoch 7/10\n",
      "2176/2194 [============================>.] - ETA: 0s - loss: 7.0872e-04 - mean_squared_error: 7.0872e-04Epoch 00007: val_loss did not improve\n",
      "2194/2194 [==============================] - 1s 436us/step - loss: 7.0838e-04 - mean_squared_error: 7.0838e-04 - val_loss: 1.0465e-04 - val_mean_squared_error: 1.0465e-04\n",
      "Epoch 8/10\n",
      "2176/2194 [============================>.] - ETA: 0s - loss: 6.8718e-04 - mean_squared_error: 6.8718e-04Epoch 00008: val_loss did not improve\n",
      "2194/2194 [==============================] - 1s 433us/step - loss: 6.8609e-04 - mean_squared_error: 6.8609e-04 - val_loss: 3.2742e-04 - val_mean_squared_error: 3.2742e-04\n",
      "Epoch 9/10\n",
      "2048/2194 [===========================>..] - ETA: 0s - loss: 6.1653e-04 - mean_squared_error: 6.1653e-04Epoch 00009: val_loss did not improve\n",
      "\n",
      "Epoch 00009: reducing learning rate to 5.0000002374872565e-05.\n",
      "2194/2194 [==============================] - 1s 473us/step - loss: 6.1108e-04 - mean_squared_error: 6.1108e-04 - val_loss: 1.9521e-04 - val_mean_squared_error: 1.9521e-04\n",
      "Epoch 10/10\n",
      "2176/2194 [============================>.] - ETA: 0s - loss: 6.1753e-04 - mean_squared_error: 6.1753e-04Epoch 00010: val_loss did not improve\n",
      "\n",
      "Epoch 00010: reducing learning rate to 5.000000237487257e-06.\n",
      "2194/2194 [==============================] - 1s 447us/step - loss: 6.1602e-04 - mean_squared_error: 6.1602e-04 - val_loss: 2.4097e-04 - val_mean_squared_error: 2.4097e-04\n"
     ]
    }
   ],
   "source": [
    "history = model.fit(train_X, train_Y, epochs = 10, batch_size = 128, callbacks = [checkpoint, lr_reduce], validation_data = (test_X, test_Y))"
   ]
  },
  {
   "cell_type": "code",
   "execution_count": 30,
   "metadata": {
    "collapsed": false
   },
   "outputs": [
    {
     "name": "stdout",
     "output_type": "stream",
     "text": [
      "Train score : 0.00011 MSE  (0.01 RMSE) \n"
     ]
    }
   ],
   "source": [
    "train_score = model.evaluate(train_X, train_Y, verbose = 0)\n",
    "print('Train score : %.5f MSE  (%.2f RMSE) '%(train_score[0], math.sqrt(train_score[0])))"
   ]
  },
  {
   "cell_type": "code",
   "execution_count": 31,
   "metadata": {
    "collapsed": false
   },
   "outputs": [
    {
     "name": "stdout",
     "output_type": "stream",
     "text": [
      "Test score : 0.00024 MSE (0.02 RMSE)\n"
     ]
    }
   ],
   "source": [
    "test_score = model.evaluate(test_X, test_Y, verbose = 0)\n",
    "print('Test score : %.5f MSE (%.2f RMSE)' % (test_score[0], math.sqrt(test_score[0])))"
   ]
  },
  {
   "cell_type": "code",
   "execution_count": 32,
   "metadata": {
    "collapsed": false
   },
   "outputs": [],
   "source": [
    "#model.save_weights('model.hdf5')"
   ]
  },
  {
   "cell_type": "code",
   "execution_count": null,
   "metadata": {
    "collapsed": false
   },
   "outputs": [],
   "source": []
  },
  {
   "cell_type": "code",
   "execution_count": 33,
   "metadata": {
    "collapsed": false
   },
   "outputs": [
    {
     "data": {
      "text/plain": [
       "<matplotlib.legend.Legend at 0x7f3fe028c2e8>"
      ]
     },
     "execution_count": 33,
     "metadata": {},
     "output_type": "execute_result"
    },
    {
     "data": {
      "image/png": "[encoded data removed]",
      "text/plain": [
       "<matplotlib.figure.Figure at 0x7f3fe029acc0>"
      ]
     },
     "metadata": {},
     "output_type": "display_data"
    }
   ],
   "source": [
    "plt.plot(history.history['mean_squared_error'])\n",
    "plt.plot(history.history['val_mean_squared_error'])\n",
    "plt.title('model mean squared error')\n",
    "plt.ylabel('accuracy')\n",
    "plt.xlabel('epoch')\n",
    "plt.legend(['train', 'test'], loc = 'upper right')"
   ]
  },
  {
   "cell_type": "code",
   "execution_count": 34,
   "metadata": {
    "collapsed": false
   },
   "outputs": [
    {
     "data": {
      "image/png": "[encoded data removed]",
      "text/plain": [
       "<matplotlib.figure.Figure at 0x7f3fe03214a8>"
      ]
     },
     "metadata": {},
     "output_type": "display_data"
    }
   ],
   "source": [
    "plt.plot(history.history['loss'])\n",
    "plt.plot(history.history['val_loss'])\n",
    "plt.title('model loss')\n",
    "plt.ylabel('loss')\n",
    "plt.xlabel('epoch')\n",
    "plt.legend(['train', 'test'], loc = 'upper right')\n",
    "plt.show()"
   ]
  },
  {
   "cell_type": "code",
   "execution_count": null,
   "metadata": {
    "collapsed": true
   },
   "outputs": [],
   "source": []
  },
  {
   "cell_type": "code",
   "execution_count": null,
   "metadata": {
    "collapsed": true
   },
   "outputs": [],
   "source": []
  },
  {
   "cell_type": "code",
   "execution_count": 35,
   "metadata": {
    "collapsed": true
   },
   "outputs": [],
   "source": [
    "# Inverse transforming the scaled data "
   ]
  },
  {
   "cell_type": "code",
   "execution_count": 36,
   "metadata": {
    "collapsed": false
   },
   "outputs": [
    {
     "data": {
      "text/plain": [
       "array([[8598.812],\n",
       "       [8607.486],\n",
       "       [8634.248],\n",
       "       [8650.382],\n",
       "       [8666.994],\n",
       "       [8688.981],\n",
       "       [8665.639],\n",
       "       [8648.021],\n",
       "       [8659.203],\n",
       "       [8637.453]], dtype=float32)"
      ]
     },
     "execution_count": 36,
     "metadata": {},
     "output_type": "execute_result"
    }
   ],
   "source": [
    "pred = model.predict(test_X)\n",
    "pred = scaler.inverse_transform(pred)\n",
    "pred[:10]"
   ]
  },
  {
   "cell_type": "code",
   "execution_count": 37,
   "metadata": {
    "collapsed": false
   },
   "outputs": [
    {
     "data": {
      "text/plain": [
       "array([[0.65670749],\n",
       "       [0.65853623],\n",
       "       [0.65853623],\n",
       "       [0.66400593],\n",
       "       [0.66199818],\n",
       "       [0.66733773],\n",
       "       [0.66664862],\n",
       "       [0.66255173],\n",
       "       [0.66292606],\n",
       "       [0.66484701]])"
      ]
     },
     "execution_count": 37,
     "metadata": {},
     "output_type": "execute_result"
    }
   ],
   "source": [
    "testY = test_Y.reshape(test_Y.shape[0], 1)\n",
    "testY = scaler.inverse_transform(testY)\n",
    "test[:10]"
   ]
  },
  {
   "cell_type": "code",
   "execution_count": 38,
   "metadata": {
    "collapsed": false
   },
   "outputs": [
    {
     "data": {
      "image/png": "[encoded data removed]",
      "text/plain": [
       "<matplotlib.figure.Figure at 0x7f3fe020e240>"
      ]
     },
     "metadata": {},
     "output_type": "display_data"
    }
   ],
   "source": [
    "plt.rcParams['figure.figsize'] = (15, 7)\n",
    "plt.plot(testY, 'b')\n",
    "plt.plot(pred, 'r')\n",
    "plt.xlabel('Time')\n",
    "plt.ylabel('stock prices')\n",
    "plt.title('Accuracy of the model with time')\n",
    "plt.grid(True)\n",
    "plt.savefig('Plots/Predicted_Vs_Actual_StockPrices.png')\n",
    "plt.show()"
   ]
  },
  {
   "cell_type": "code",
   "execution_count": null,
   "metadata": {
    "collapsed": true
   },
   "outputs": [],
   "source": []
  }
 ],
 "metadata": {
  "anaconda-cloud": {},
  "kernelspec": {
   "display_name": "Python [default]",
   "language": "python",
   "name": "python3"
  },
  "language_info": {
   "codemirror_mode": {
    "name": "ipython",
    "version": 3
   },
   "file_extension": ".py",
   "mimetype": "text/x-python",
   "name": "python",
   "nbconvert_exporter": "python",
   "pygments_lexer": "ipython3",
   "version": "3.5.4"
  }
 },
 "nbformat": 4,
 "nbformat_minor": 1
}
